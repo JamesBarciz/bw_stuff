{
 "cells": [
  {
   "cell_type": "code",
   "execution_count": 2,
   "metadata": {
    "collapsed": true
   },
   "outputs": [],
   "source": [
    "import pandas as pd\n",
    "\n",
    "pd.set_option('display.max_columns', 20)"
   ]
  },
  {
   "cell_type": "code",
   "execution_count": 3,
   "outputs": [
    {
     "data": {
      "text/plain": "   genre        artist_name                        track_name  \\\n0  Movie     Henri Salvador       C'est beau de faire un Show   \n1  Movie  Martin & les fées  Perdu d'avance (par Gad Elmaleh)   \n2  Movie    Joseph Williams    Don't Let Me Be Lonely Tonight   \n3  Movie     Henri Salvador    Dis-moi Monsieur Gordon Cooper   \n4  Movie       Fabien Nataf                         Ouverture   \n\n                 track_id  popularity  acousticness  danceability  \\\n0  0BRjO6ga9RKCKjfDqeFgWV           0         0.611         0.389   \n1  0BjC1NfoEOOusryehmNudP           1         0.246         0.590   \n2  0CoSDzoNIKCRs124s9uTVy           3         0.952         0.663   \n3  0Gc6TVm52BwZD07Ki6tIvf           0         0.703         0.240   \n4  0IuslXpMROHdEPvSl1fTQK           4         0.950         0.331   \n\n   duration_ms  energy  instrumentalness key  liveness  loudness   mode  \\\n0        99373   0.910             0.000  C#    0.3460    -1.828  Major   \n1       137373   0.737             0.000  F#    0.1510    -5.559  Minor   \n2       170267   0.131             0.000   C    0.1030   -13.879  Minor   \n3       152427   0.326             0.000  C#    0.0985   -12.178  Major   \n4        82625   0.225             0.123   F    0.2020   -21.150  Major   \n\n   speechiness    tempo time_signature  valence  \n0       0.0525  166.969            4/4    0.814  \n1       0.0868  174.003            4/4    0.816  \n2       0.0362   99.488            5/4    0.368  \n3       0.0395  171.758            4/4    0.227  \n4       0.0456  140.576            4/4    0.390  ",
      "text/html": "<div>\n<style scoped>\n    .dataframe tbody tr th:only-of-type {\n        vertical-align: middle;\n    }\n\n    .dataframe tbody tr th {\n        vertical-align: top;\n    }\n\n    .dataframe thead th {\n        text-align: right;\n    }\n</style>\n<table border=\"1\" class=\"dataframe\">\n  <thead>\n    <tr style=\"text-align: right;\">\n      <th></th>\n      <th>genre</th>\n      <th>artist_name</th>\n      <th>track_name</th>\n      <th>track_id</th>\n      <th>popularity</th>\n      <th>acousticness</th>\n      <th>danceability</th>\n      <th>duration_ms</th>\n      <th>energy</th>\n      <th>instrumentalness</th>\n      <th>key</th>\n      <th>liveness</th>\n      <th>loudness</th>\n      <th>mode</th>\n      <th>speechiness</th>\n      <th>tempo</th>\n      <th>time_signature</th>\n      <th>valence</th>\n    </tr>\n  </thead>\n  <tbody>\n    <tr>\n      <th>0</th>\n      <td>Movie</td>\n      <td>Henri Salvador</td>\n      <td>C'est beau de faire un Show</td>\n      <td>0BRjO6ga9RKCKjfDqeFgWV</td>\n      <td>0</td>\n      <td>0.611</td>\n      <td>0.389</td>\n      <td>99373</td>\n      <td>0.910</td>\n      <td>0.000</td>\n      <td>C#</td>\n      <td>0.3460</td>\n      <td>-1.828</td>\n      <td>Major</td>\n      <td>0.0525</td>\n      <td>166.969</td>\n      <td>4/4</td>\n      <td>0.814</td>\n    </tr>\n    <tr>\n      <th>1</th>\n      <td>Movie</td>\n      <td>Martin &amp; les fées</td>\n      <td>Perdu d'avance (par Gad Elmaleh)</td>\n      <td>0BjC1NfoEOOusryehmNudP</td>\n      <td>1</td>\n      <td>0.246</td>\n      <td>0.590</td>\n      <td>137373</td>\n      <td>0.737</td>\n      <td>0.000</td>\n      <td>F#</td>\n      <td>0.1510</td>\n      <td>-5.559</td>\n      <td>Minor</td>\n      <td>0.0868</td>\n      <td>174.003</td>\n      <td>4/4</td>\n      <td>0.816</td>\n    </tr>\n    <tr>\n      <th>2</th>\n      <td>Movie</td>\n      <td>Joseph Williams</td>\n      <td>Don't Let Me Be Lonely Tonight</td>\n      <td>0CoSDzoNIKCRs124s9uTVy</td>\n      <td>3</td>\n      <td>0.952</td>\n      <td>0.663</td>\n      <td>170267</td>\n      <td>0.131</td>\n      <td>0.000</td>\n      <td>C</td>\n      <td>0.1030</td>\n      <td>-13.879</td>\n      <td>Minor</td>\n      <td>0.0362</td>\n      <td>99.488</td>\n      <td>5/4</td>\n      <td>0.368</td>\n    </tr>\n    <tr>\n      <th>3</th>\n      <td>Movie</td>\n      <td>Henri Salvador</td>\n      <td>Dis-moi Monsieur Gordon Cooper</td>\n      <td>0Gc6TVm52BwZD07Ki6tIvf</td>\n      <td>0</td>\n      <td>0.703</td>\n      <td>0.240</td>\n      <td>152427</td>\n      <td>0.326</td>\n      <td>0.000</td>\n      <td>C#</td>\n      <td>0.0985</td>\n      <td>-12.178</td>\n      <td>Major</td>\n      <td>0.0395</td>\n      <td>171.758</td>\n      <td>4/4</td>\n      <td>0.227</td>\n    </tr>\n    <tr>\n      <th>4</th>\n      <td>Movie</td>\n      <td>Fabien Nataf</td>\n      <td>Ouverture</td>\n      <td>0IuslXpMROHdEPvSl1fTQK</td>\n      <td>4</td>\n      <td>0.950</td>\n      <td>0.331</td>\n      <td>82625</td>\n      <td>0.225</td>\n      <td>0.123</td>\n      <td>F</td>\n      <td>0.2020</td>\n      <td>-21.150</td>\n      <td>Major</td>\n      <td>0.0456</td>\n      <td>140.576</td>\n      <td>4/4</td>\n      <td>0.390</td>\n    </tr>\n  </tbody>\n</table>\n</div>"
     },
     "execution_count": 3,
     "metadata": {},
     "output_type": "execute_result"
    }
   ],
   "source": [
    "df = pd.read_csv('../data/SpotifyFeatures.csv')\n",
    "df.head()"
   ],
   "metadata": {
    "collapsed": false,
    "pycharm": {
     "name": "#%%\n"
    }
   }
  },
  {
   "cell_type": "code",
   "execution_count": 8,
   "outputs": [],
   "source": [
    "live_data = df[:100]\n",
    "# live_data.to_csv('../data/live_data.csv', index=False)"
   ],
   "metadata": {
    "collapsed": false,
    "pycharm": {
     "name": "#%%\n"
    }
   }
  },
  {
   "cell_type": "code",
   "execution_count": 9,
   "outputs": [
    {
     "data": {
      "text/plain": "    genre         artist_name                        track_name  \\\n0   Movie      Henri Salvador       C'est beau de faire un Show   \n1   Movie   Martin & les fées  Perdu d'avance (par Gad Elmaleh)   \n2   Movie     Joseph Williams    Don't Let Me Be Lonely Tonight   \n3   Movie      Henri Salvador    Dis-moi Monsieur Gordon Cooper   \n4   Movie        Fabien Nataf                         Ouverture   \n..    ...                 ...                               ...   \n95  Movie        Claire Guyot           Assise au bord du monde   \n96  Movie              Chorus      Koti Chennaya(Vol.1 &amp; 2)   \n97  Movie      Henri Salvador       Dis-moi qu'tu m'aimes, rock   \n98  Movie  Richard M. Sherman                  Forgotten Dreams   \n99  Movie              Chorus     High (feat. Syross & Messieh)   \n\n                  track_id  popularity  acousticness  danceability  \\\n0   0BRjO6ga9RKCKjfDqeFgWV           0         0.611         0.389   \n1   0BjC1NfoEOOusryehmNudP           1         0.246         0.590   \n2   0CoSDzoNIKCRs124s9uTVy           3         0.952         0.663   \n3   0Gc6TVm52BwZD07Ki6tIvf           0         0.703         0.240   \n4   0IuslXpMROHdEPvSl1fTQK           4         0.950         0.331   \n..                     ...         ...           ...           ...   \n95  3JldnhrVM001MJHN7GsB3T           0         0.744         0.193   \n96  3NXlNZSmjO3DsJ3DQuyU8e           0         0.840         0.688   \n97  3Ng7AEyRUZxPgDgVW2jZoM           1         0.844         0.592   \n98  3PyfS1XmjHk1JZ004a2bFZ           0         0.987         0.429   \n99  3R3vtgh4lKgRFtkrfrrUQs           0         0.414         0.642   \n\n    duration_ms  energy  instrumentalness key  liveness  loudness   mode  \\\n0         99373  0.9100          0.000000  C#    0.3460    -1.828  Major   \n1        137373  0.7370          0.000000  F#    0.1510    -5.559  Minor   \n2        170267  0.1310          0.000000   C    0.1030   -13.879  Minor   \n3        152427  0.3260          0.000000  C#    0.0985   -12.178  Major   \n4         82625  0.2250          0.123000   F    0.2020   -21.150  Major   \n..          ...     ...               ...  ..       ...       ...    ...   \n95       234754  0.4770          0.000074   F    0.1730    -9.086  Major   \n96      3435625  0.3310          0.000000   F    0.0673    -8.645  Major   \n97       156267  0.6320          0.000000   F    0.0908    -4.170  Minor   \n98        89947  0.0478          0.959000   E    0.1020   -14.170  Minor   \n99       154176  0.6300          0.000000  A#    0.1450    -5.814  Minor   \n\n    speechiness    tempo time_signature  valence  \n0        0.0525  166.969            4/4    0.814  \n1        0.0868  174.003            4/4    0.816  \n2        0.0362   99.488            5/4    0.368  \n3        0.0395  171.758            4/4    0.227  \n4        0.0456  140.576            4/4    0.390  \n..          ...      ...            ...      ...  \n95       0.0430   77.528            4/4    0.191  \n96       0.7720  102.244            4/4    0.529  \n97       0.1440   87.819            4/4    0.748  \n98       0.0468   82.388            4/4    0.111  \n99       0.1870  149.973            4/4    0.190  \n\n[100 rows x 18 columns]",
      "text/html": "<div>\n<style scoped>\n    .dataframe tbody tr th:only-of-type {\n        vertical-align: middle;\n    }\n\n    .dataframe tbody tr th {\n        vertical-align: top;\n    }\n\n    .dataframe thead th {\n        text-align: right;\n    }\n</style>\n<table border=\"1\" class=\"dataframe\">\n  <thead>\n    <tr style=\"text-align: right;\">\n      <th></th>\n      <th>genre</th>\n      <th>artist_name</th>\n      <th>track_name</th>\n      <th>track_id</th>\n      <th>popularity</th>\n      <th>acousticness</th>\n      <th>danceability</th>\n      <th>duration_ms</th>\n      <th>energy</th>\n      <th>instrumentalness</th>\n      <th>key</th>\n      <th>liveness</th>\n      <th>loudness</th>\n      <th>mode</th>\n      <th>speechiness</th>\n      <th>tempo</th>\n      <th>time_signature</th>\n      <th>valence</th>\n    </tr>\n  </thead>\n  <tbody>\n    <tr>\n      <th>0</th>\n      <td>Movie</td>\n      <td>Henri Salvador</td>\n      <td>C'est beau de faire un Show</td>\n      <td>0BRjO6ga9RKCKjfDqeFgWV</td>\n      <td>0</td>\n      <td>0.611</td>\n      <td>0.389</td>\n      <td>99373</td>\n      <td>0.9100</td>\n      <td>0.000000</td>\n      <td>C#</td>\n      <td>0.3460</td>\n      <td>-1.828</td>\n      <td>Major</td>\n      <td>0.0525</td>\n      <td>166.969</td>\n      <td>4/4</td>\n      <td>0.814</td>\n    </tr>\n    <tr>\n      <th>1</th>\n      <td>Movie</td>\n      <td>Martin &amp; les fées</td>\n      <td>Perdu d'avance (par Gad Elmaleh)</td>\n      <td>0BjC1NfoEOOusryehmNudP</td>\n      <td>1</td>\n      <td>0.246</td>\n      <td>0.590</td>\n      <td>137373</td>\n      <td>0.7370</td>\n      <td>0.000000</td>\n      <td>F#</td>\n      <td>0.1510</td>\n      <td>-5.559</td>\n      <td>Minor</td>\n      <td>0.0868</td>\n      <td>174.003</td>\n      <td>4/4</td>\n      <td>0.816</td>\n    </tr>\n    <tr>\n      <th>2</th>\n      <td>Movie</td>\n      <td>Joseph Williams</td>\n      <td>Don't Let Me Be Lonely Tonight</td>\n      <td>0CoSDzoNIKCRs124s9uTVy</td>\n      <td>3</td>\n      <td>0.952</td>\n      <td>0.663</td>\n      <td>170267</td>\n      <td>0.1310</td>\n      <td>0.000000</td>\n      <td>C</td>\n      <td>0.1030</td>\n      <td>-13.879</td>\n      <td>Minor</td>\n      <td>0.0362</td>\n      <td>99.488</td>\n      <td>5/4</td>\n      <td>0.368</td>\n    </tr>\n    <tr>\n      <th>3</th>\n      <td>Movie</td>\n      <td>Henri Salvador</td>\n      <td>Dis-moi Monsieur Gordon Cooper</td>\n      <td>0Gc6TVm52BwZD07Ki6tIvf</td>\n      <td>0</td>\n      <td>0.703</td>\n      <td>0.240</td>\n      <td>152427</td>\n      <td>0.3260</td>\n      <td>0.000000</td>\n      <td>C#</td>\n      <td>0.0985</td>\n      <td>-12.178</td>\n      <td>Major</td>\n      <td>0.0395</td>\n      <td>171.758</td>\n      <td>4/4</td>\n      <td>0.227</td>\n    </tr>\n    <tr>\n      <th>4</th>\n      <td>Movie</td>\n      <td>Fabien Nataf</td>\n      <td>Ouverture</td>\n      <td>0IuslXpMROHdEPvSl1fTQK</td>\n      <td>4</td>\n      <td>0.950</td>\n      <td>0.331</td>\n      <td>82625</td>\n      <td>0.2250</td>\n      <td>0.123000</td>\n      <td>F</td>\n      <td>0.2020</td>\n      <td>-21.150</td>\n      <td>Major</td>\n      <td>0.0456</td>\n      <td>140.576</td>\n      <td>4/4</td>\n      <td>0.390</td>\n    </tr>\n    <tr>\n      <th>...</th>\n      <td>...</td>\n      <td>...</td>\n      <td>...</td>\n      <td>...</td>\n      <td>...</td>\n      <td>...</td>\n      <td>...</td>\n      <td>...</td>\n      <td>...</td>\n      <td>...</td>\n      <td>...</td>\n      <td>...</td>\n      <td>...</td>\n      <td>...</td>\n      <td>...</td>\n      <td>...</td>\n      <td>...</td>\n      <td>...</td>\n    </tr>\n    <tr>\n      <th>95</th>\n      <td>Movie</td>\n      <td>Claire Guyot</td>\n      <td>Assise au bord du monde</td>\n      <td>3JldnhrVM001MJHN7GsB3T</td>\n      <td>0</td>\n      <td>0.744</td>\n      <td>0.193</td>\n      <td>234754</td>\n      <td>0.4770</td>\n      <td>0.000074</td>\n      <td>F</td>\n      <td>0.1730</td>\n      <td>-9.086</td>\n      <td>Major</td>\n      <td>0.0430</td>\n      <td>77.528</td>\n      <td>4/4</td>\n      <td>0.191</td>\n    </tr>\n    <tr>\n      <th>96</th>\n      <td>Movie</td>\n      <td>Chorus</td>\n      <td>Koti Chennaya(Vol.1 &amp;amp; 2)</td>\n      <td>3NXlNZSmjO3DsJ3DQuyU8e</td>\n      <td>0</td>\n      <td>0.840</td>\n      <td>0.688</td>\n      <td>3435625</td>\n      <td>0.3310</td>\n      <td>0.000000</td>\n      <td>F</td>\n      <td>0.0673</td>\n      <td>-8.645</td>\n      <td>Major</td>\n      <td>0.7720</td>\n      <td>102.244</td>\n      <td>4/4</td>\n      <td>0.529</td>\n    </tr>\n    <tr>\n      <th>97</th>\n      <td>Movie</td>\n      <td>Henri Salvador</td>\n      <td>Dis-moi qu'tu m'aimes, rock</td>\n      <td>3Ng7AEyRUZxPgDgVW2jZoM</td>\n      <td>1</td>\n      <td>0.844</td>\n      <td>0.592</td>\n      <td>156267</td>\n      <td>0.6320</td>\n      <td>0.000000</td>\n      <td>F</td>\n      <td>0.0908</td>\n      <td>-4.170</td>\n      <td>Minor</td>\n      <td>0.1440</td>\n      <td>87.819</td>\n      <td>4/4</td>\n      <td>0.748</td>\n    </tr>\n    <tr>\n      <th>98</th>\n      <td>Movie</td>\n      <td>Richard M. Sherman</td>\n      <td>Forgotten Dreams</td>\n      <td>3PyfS1XmjHk1JZ004a2bFZ</td>\n      <td>0</td>\n      <td>0.987</td>\n      <td>0.429</td>\n      <td>89947</td>\n      <td>0.0478</td>\n      <td>0.959000</td>\n      <td>E</td>\n      <td>0.1020</td>\n      <td>-14.170</td>\n      <td>Minor</td>\n      <td>0.0468</td>\n      <td>82.388</td>\n      <td>4/4</td>\n      <td>0.111</td>\n    </tr>\n    <tr>\n      <th>99</th>\n      <td>Movie</td>\n      <td>Chorus</td>\n      <td>High (feat. Syross &amp; Messieh)</td>\n      <td>3R3vtgh4lKgRFtkrfrrUQs</td>\n      <td>0</td>\n      <td>0.414</td>\n      <td>0.642</td>\n      <td>154176</td>\n      <td>0.6300</td>\n      <td>0.000000</td>\n      <td>A#</td>\n      <td>0.1450</td>\n      <td>-5.814</td>\n      <td>Minor</td>\n      <td>0.1870</td>\n      <td>149.973</td>\n      <td>4/4</td>\n      <td>0.190</td>\n    </tr>\n  </tbody>\n</table>\n<p>100 rows × 18 columns</p>\n</div>"
     },
     "execution_count": 9,
     "metadata": {},
     "output_type": "execute_result"
    }
   ],
   "source": [
    "# pd.read_csv('../data/../data/live_data.csv')"
   ],
   "metadata": {
    "collapsed": false,
    "pycharm": {
     "name": "#%%\n"
    }
   }
  },
  {
   "cell_type": "code",
   "execution_count": null,
   "outputs": [],
   "source": [],
   "metadata": {
    "collapsed": false,
    "pycharm": {
     "name": "#%%\n"
    }
   }
  }
 ],
 "metadata": {
  "kernelspec": {
   "display_name": "Python 3",
   "language": "python",
   "name": "python3"
  },
  "language_info": {
   "codemirror_mode": {
    "name": "ipython",
    "version": 2
   },
   "file_extension": ".py",
   "mimetype": "text/x-python",
   "name": "python",
   "nbconvert_exporter": "python",
   "pygments_lexer": "ipython2",
   "version": "2.7.6"
  }
 },
 "nbformat": 4,
 "nbformat_minor": 0
}